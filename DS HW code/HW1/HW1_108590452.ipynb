{
 "cells": [
  {
   "cell_type": "markdown",
   "metadata": {},
   "source": [
    "## Homework 1 - Python Practice (Data Structures, Fall 2020)\n",
    "\n",
    "### Name: 林峻霆\n",
    "### Student ID Number: 108590452\n",
    "\n",
    "### Problem 1\n",
    "Write a short Python function `sumoddsquares()` that takes a positive integer $n$ and returns the sum of the squares of all the odd positive integers smaller than $n$. Furthermore, please give a single command that computes the same sum in another Python function `sumoddsquares_simple()`, relying\n",
    "on Python's comprehension syntax and the built-in sum function."
   ]
  },
  {
   "cell_type": "code",
   "execution_count": null,
   "metadata": {},
   "outputs": [],
   "source": [
    "#Write a short Python function sumoddsquares()\n",
    "\n",
    "import numpy\n",
    "def sumoddsquares(a):\n",
    "    if a<0:\n",
    "        return 0\n",
    "    num=0\n",
    "    for i in range(1,a,+2):\n",
    "        num=num+numpy.square(i)\n",
    "    return num\n",
    "    \n",
    "# write a short Python function sumoddsquares_simple() using a single command that computes the same sum \n",
    "\n",
    "print (sumoddsquares(2))  #want to add up 1*1\n",
    "print (sumoddsquares(10)) # want to add up 1*1, 3*3, etc.\n",
    "print (sumoddsquares(0))\n",
    "print (sumoddsquares(4))\n",
    "print (sumoddsquares(-5))\n",
    "for x in range (10):\n",
    "    print (f'{x}: {sumoddsquares(x)}')\n",
    "    \n",
    "def sumoddsquares_simple(a):\n",
    "    if a<0:\n",
    "        return 0\n",
    "    num=0\n",
    "    for i in range(1,a,+2):\n",
    "        num=num+numpy.square(i)\n",
    "    return num\n",
    "\n",
    "print (sumoddsquares_simple(2))  #want to add up 1*1\n",
    "print (sumoddsquares_simple(10)) # want to add up 1*1, 3*3, etc.\n",
    "print (sumoddsquares_simple(0))\n",
    "print (sumoddsquares_simple(4))\n",
    "print (sumoddsquares_simple(-5))\n",
    "for x in range (10):\n",
    "    print (f'{x}: {sumoddsquares_simple(x)}')"
   ]
  },
  {
   "cell_type": "markdown",
   "metadata": {},
   "source": [
    "Problem 2\n",
    "Write a Python function uniqueness() that takes a sequence of numbers and determines if all the numbers are different from each other (that is, they are distinct)."
   ]
  },
  {
   "cell_type": "code",
   "execution_count": 1,
   "metadata": {},
   "outputs": [
    {
     "name": "stdout",
     "output_type": "stream",
     "text": [
      "True\n",
      "False\n",
      "True\n"
     ]
    }
   ],
   "source": [
    "# Write a Python function uniqueness()\n",
    "def uniqueness(data):\n",
    "    newdata=set(data)\n",
    "    if len(data)==len(newdata):\n",
    "        return True\n",
    "    else:\n",
    "        return False\n",
    "data = [1,2,3,4,5,6]; print (uniqueness(data))\n",
    "data = [1,2,3,3,5,6]; print (uniqueness(data))\n",
    "data = []; print (uniqueness(data))"
   ]
  },
  {
   "cell_type": "markdown",
   "metadata": {},
   "source": [
    "### Problem 3\n",
    "Suppose a teacher would like to arrange the students in a row according to their heights in an increasing order from left to right. With a given sequence of heights of students, please give a way to help the teacher to decide whether the teacher can have an increasing list by rotating the list. For example, given a sequence of numbers $S=\\{6,8,9,3,5\\}$, $S$ can be rotated to be an increasing list as $\\{3,5,6,8,9\\}$ but the other example $S'=\\{1,4,5,2,3\\}$ can not be an increasing list by rotations. The input of this problem thus is a sequence of numbers and the function `rotated_increasing()` is to determine whether the input sequence can be an increasing list by rotations."
   ]
  },
  {
   "cell_type": "code",
   "execution_count": 1,
   "metadata": {},
   "outputs": [
    {
     "name": "stdout",
     "output_type": "stream",
     "text": [
      "[1, 2, 3, 0, 4] 5 False\n",
      "[5, 8, 9, 11, 12] 5 True\n",
      "[7, 9, 11, 12, 14] 5 True\n",
      "[9, 11, 12, 13, 15] 5 True\n",
      "[1, 2, 3, 4, 5, 6] 6 True\n",
      "[4, 6, 1, 5, 3] 5 False\n"
     ]
    }
   ],
   "source": [
    "# write function rotated_increasing()\n",
    "def leftRotate(l):\n",
    "    first = l[0]\n",
    "    for i in range (1,len(l)):\n",
    "        l[i-1]=l[i]\n",
    "    l[len(l)-1]=first\n",
    "\n",
    "def rotated_increasing(arr):\n",
    "    l=arr\n",
    "    for i in range(0,len(l)): \n",
    "        leftRotate(l)\n",
    "        if all(x<y for x, y in zip(l, l[1:])) ==True:\n",
    "            return True\n",
    "    return False\n",
    "    \n",
    "\n",
    "arr = [1, 2, 3, 0, 4] \n",
    "print(arr, len(arr), rotated_increasing(arr)) \n",
    "\n",
    "arr = [8, 9, 11, 12, 5] \n",
    "print(arr, len(arr), rotated_increasing(arr)) \n",
    "\n",
    "arr = [7, 9, 11, 12, 14] \n",
    "print(arr, len(arr), rotated_increasing(arr)) \n",
    "\n",
    "arr = [15, 9, 11, 12, 13] \n",
    "print(arr, len(arr), rotated_increasing(arr)) \n",
    "\n",
    "arr = [4, 5, 6, 1, 2, 3] \n",
    "print(arr, len(arr), rotated_increasing(arr)) \n",
    "\n",
    "arr = [4, 6, 1, 5, 3] \n",
    "print(arr, len(arr), rotated_increasing(arr)) "
   ]
  },
  {
   "cell_type": "markdown",
   "metadata": {},
   "source": [
    "### Problem 4\n",
    "Write a Python class named `Circle` constructed by a radius with two methods: `area()` and `perimeter()`, which compute the area and perimeter respectively. For this problem, we simply use $\\pi=3.14$."
   ]
  },
  {
   "cell_type": "code",
   "execution_count": 4,
   "metadata": {},
   "outputs": [
    {
     "name": "stdout",
     "output_type": "stream",
     "text": [
      "Please give the radius of the circle:10\n",
      "The area and perimeter of the input circle are 314.0 and 62.800000000000004\n"
     ]
    }
   ],
   "source": [
    "\n",
    "# Write a Python class, Circle \n",
    "class Circle():\n",
    "    def __init__(self, r):\n",
    "        self.radius = r\n",
    "\n",
    "    def area(self):\n",
    "        return self.radius**2*3.14\n",
    "    \n",
    "    def perimeter(self):\n",
    "        return 2*self.radius*3.14\n",
    "\n",
    "\n",
    "r = int(input(\"Please give the radius of the circle:\"))\n",
    "Circle = Circle(r)\n",
    "print('The area and perimeter of the input circle are', Circle.area(), 'and', Circle.perimeter() )"
   ]
  },
  {
   "cell_type": "markdown",
   "metadata": {},
   "source": [
    "### Problem 5\n",
    "\n",
    "Create a Python program that will play the \"A and B\" game with a user. The game works like this:  \n",
    "One randomly generates a 4-digit number and asks the user to guess this 4-digit number. For every digit that the user guesses correctly in the correct place, the user gets an “A”.  For every digit the user guesses correctly in the wrong place, the user gets a “B”. Every time the user makes a guess, tell them how many “As” and “Bs” the user gets. The process continues until the user guesses the correct 4-digit number and the game is over. During the process, keep track of the number of guesses the user makes throughout the game and tell the user at the end.  \n",
    "\n",
    "Here is an example and suppose that the number generated by the computer is 6581. The interaction may be as below:\n",
    "\n",
    "    Welcome to the A and B Game and a 4-digit number is generated.  \n",
    "    Please guess a number: \n",
    "    >>> 6284\n",
    "    2 A, 0 B\n",
    "    >>> 2451\n",
    "    1 A, 1 B\n",
    "    ...\n",
    "Until the user guesses the correct number or enter `exit` to quit the game.\n",
    "\n",
    "In this exercise, you can use [Python random documentation](https://docs.python.org/3.0/library/random.html) to figure out how to generate a random 4-digit number. "
   ]
  },
  {
   "cell_type": "code",
   "execution_count": null,
   "metadata": {
    "scrolled": true
   },
   "outputs": [
    {
     "name": "stdout",
     "output_type": "stream",
     "text": [
      "Let's play a game of A and B\n",
      "I will generate a 4-digit number, and you have to guess the numbers one digit at a time.\n",
      "For every number in the wrong place, you get a B. For every one in the right place, you get an A.\n",
      "The game ends when you get 4 As!\n",
      "Type exit at any prompt to exit.\n"
     ]
    }
   ],
   "source": [
    "import random\n",
    "items = [1, 2, 3, 4, 5, 6, 7, 8, 9, 0]\n",
    "random.shuffle(items)\n",
    "answer=''\n",
    "a_count=0 # initial A count\n",
    "b_count=0 # initial B count\n",
    "for i in range(4):\n",
    "    answer+=str(items[i])\n",
    "print(\"Let's play a game of A and B\") \n",
    "print(\"I will generate a 4-digit number, and you have to guess the numbers one digit at a time.\")\n",
    "print(\"For every number in the wrong place, you get a B. For every one in the right place, you get an A.\")\n",
    "print(\"The game ends when you get 4 As!\")\n",
    "print(\"Type exit at any prompt to exit.\")\n",
    "times=0\n",
    "string1='exit'\n",
    "while (True ):\n",
    "    number=input('Give me your best guess: ')\n",
    "    times+=1\n",
    "    if number == string1:\n",
    "        break\n",
    "    else:\n",
    "        if number==answer:\n",
    "            print('excellent you guess the correct number')\n",
    "            break\n",
    "        for i in range(4):\n",
    "            for j in range(4):\n",
    "                if i==j and number[i]==answer[j]:\n",
    "                    a_count+=1\n",
    "                elif number[i]==answer[j]:\n",
    "                    b_count+=1\n",
    "        print('You have' ' {0} As and {1} Bs'.format(a_count,b_count))\n",
    "        print('Your guess is not quite right,try again.')\n",
    "        a_count=0\n",
    "        b_count=0\n",
    "\n",
    "print('Sorry to see you leave after {0} guesses and the number was {1}.'.format(times,answer))\n",
    "   \n"
   ]
  },
  {
   "cell_type": "code",
   "execution_count": null,
   "metadata": {},
   "outputs": [],
   "source": []
  },
  {
   "cell_type": "code",
   "execution_count": null,
   "metadata": {},
   "outputs": [],
   "source": []
  }
 ],
 "metadata": {
  "kernelspec": {
   "display_name": "Python 3",
   "language": "python",
   "name": "python3"
  },
  "language_info": {
   "codemirror_mode": {
    "name": "ipython",
    "version": 3
   },
   "file_extension": ".py",
   "mimetype": "text/x-python",
   "name": "python",
   "nbconvert_exporter": "python",
   "pygments_lexer": "ipython3",
   "version": "3.8.3"
  }
 },
 "nbformat": 4,
 "nbformat_minor": 4
}
